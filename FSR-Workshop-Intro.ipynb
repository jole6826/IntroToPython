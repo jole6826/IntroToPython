{
 "cells": [
  {
   "cell_type": "markdown",
   "metadata": {},
   "source": [
    "# Workshop: Python basics for engineers\n",
    "<hr>\n",
    "\n",
    "## Fachschaftsrat Elektro- & Informationstechnik\n",
    "(https://www.tu-ilmenau.de/fachschaftsrat-ei/startseite/)\n",
    "\n"
   ]
  },
  {
   "cell_type": "markdown",
   "metadata": {},
   "source": [
    "### Getting started with Python yourself: \n",
    "- [Python for Beginners](https://www.python.org/about/gettingstarted/)\n",
    "- [Installation step-by-step (german)](https://www.tu-ilmenau.de/de/neurob/teaching/python-installation/)\n",
    "- Places to practice:\n",
    "  - [The Python Challenge](http://www.pythonchallenge.com/)\n",
    "  - [Codewars](https://www.codewars.com/)"
   ]
  },
  {
   "cell_type": "markdown",
   "metadata": {},
   "source": [
    "### Introduction to follow along\n",
    "\n",
    "In the next cells we will demonstrate the basic syntax of Python and how to use this Jupyter Notebook to work on the coming tasks. \n",
    "\n",
    "Simply hit `Shift+Enter` to execute the currently selected cell of the notebook."
   ]
  },
  {
   "cell_type": "markdown",
   "metadata": {},
   "source": [
    "__Printing results__ \n",
    "\n",
    "Here you see how to present results. Or run a ['Hello World'](https://en.wikipedia.org/wiki/%22Hello,_World!%22_program \"'Hello, World!') program\""
   ]
  },
  {
   "cell_type": "code",
   "execution_count": 28,
   "metadata": {},
   "outputs": [
    {
     "name": "stdout",
     "output_type": "stream",
     "text": [
      "Hello World!\n"
     ]
    }
   ],
   "source": [
    "print('Hello World!')"
   ]
  },
  {
   "cell_type": "markdown",
   "metadata": {},
   "source": [
    "__Python as a calculator__"
   ]
  },
  {
   "cell_type": "code",
   "execution_count": 30,
   "metadata": {},
   "outputs": [
    {
     "name": "stdout",
     "output_type": "stream",
     "text": [
      "12\n"
     ]
    }
   ],
   "source": [
    "print(4 + 8)"
   ]
  },
  {
   "cell_type": "markdown",
   "metadata": {},
   "source": [
    "__Using variables__\n",
    "\n",
    "You can store variables of different types with a name and value. \n",
    "\n",
    "This is very convenient for complex calculations and to give out the results. (Always try to give your variables meaningful names)"
   ]
  },
  {
   "cell_type": "code",
   "execution_count": 31,
   "metadata": {},
   "outputs": [
    {
     "name": "stdout",
     "output_type": "stream",
     "text": [
      "Adding two variables:  28\n",
      "Our short word:  FSR\n",
      "Display a list of numbers:  [3, 7, 8, 2, 9]\n",
      "Print an element of the list:  8\n",
      "Print a slice of the list:  [8, 2, 9]\n",
      "('Max', 21)\n",
      "{'Max': 21}\n"
     ]
    }
   ],
   "source": [
    "firstNumber = 5\n",
    "otherNumber = 23\n",
    "\n",
    "shortWord = 'FSR'\n",
    "\n",
    "listOfNumbers = [3, 7, 8, 2, 9]\n",
    "nameAndAgeTuple = ('Max', 21)\n",
    "nameAndAgeDict = {'Max': 21}\n",
    "\n",
    "print('Adding two variables: ', firstNumber + otherNumber)\n",
    "print('Our short word: ', shortWord)\n",
    "print('Display a list of numbers: ', listOfNumbers)\n",
    "print('Print an element of the list: ', listOfNumbers[2])\n",
    "print('Print a slice of the list: ', listOfNumbers[2:5])\n",
    "print(nameAndAgeTuple)\n",
    "print(nameAndAgeDict)"
   ]
  },
  {
   "cell_type": "markdown",
   "metadata": {},
   "source": [
    "__Loops and logic__\n",
    "\n",
    "\n",
    "Using loops and logic expressions are done using the keywords: \n",
    "\n",
    "`for`, `while`,`if`, `else`, `and`, `or`, `not` and more\n",
    "\n",
    "This makes Python very readable"
   ]
  },
  {
   "cell_type": "code",
   "execution_count": 32,
   "metadata": {},
   "outputs": [
    {
     "name": "stdout",
     "output_type": "stream",
     "text": [
      "3\n",
      "7\n",
      "8\n",
      "2\n",
      "9\n"
     ]
    }
   ],
   "source": [
    "for number in listOfNumbers:\n",
    "    print(number)"
   ]
  },
  {
   "cell_type": "code",
   "execution_count": 33,
   "metadata": {},
   "outputs": [
    {
     "name": "stdout",
     "output_type": "stream",
     "text": [
      "They are not the same\n"
     ]
    }
   ],
   "source": [
    "var1 = 5\n",
    "var2 = 9\n",
    "\n",
    "if var1 == var2:\n",
    "    print('They are the same')\n",
    "else:\n",
    "    print('They are not the same')"
   ]
  },
  {
   "cell_type": "code",
   "execution_count": 34,
   "metadata": {},
   "outputs": [
    {
     "name": "stdout",
     "output_type": "stream",
     "text": [
      "Python is cool!\n",
      "Python is still cool!\n",
      "7 is a large element!\n",
      "8 is a large element!\n",
      "9 is a large element!\n"
     ]
    }
   ],
   "source": [
    "booleanVar1 = True\n",
    "booleanVar2 = True\n",
    "\n",
    "if booleanVar1 and booleanVar2:\n",
    "    print('Python is cool!')\n",
    "if booleanVar1 or booleanVar2:\n",
    "    print('Python is still cool!')\n",
    "    \n",
    "# Fancy stuff with loops, if and a formatted string\n",
    "for elem in listOfNumbers:\n",
    "    if (elem > 5):\n",
    "        print(f'{elem} is a large element!')"
   ]
  },
  {
   "cell_type": "markdown",
   "metadata": {},
   "source": [
    "__Defining functions__\n",
    "\n",
    "Using the `def` keyword you can simply create your own functions. \n",
    "\n",
    "Also notice that python doesn't have curly brackets`{` or `}` like *Java*, *C/C++* and other languages. Instead the code is organized using indentation. The correct __level of indentation__ is very important for Python to work correctly! This is also true for loops (`for`, `while`)"
   ]
  },
  {
   "cell_type": "code",
   "execution_count": 35,
   "metadata": {},
   "outputs": [],
   "source": [
    "def addTwoNumbers(number1, number2):\n",
    "    return number1 + number2\n",
    "\n",
    "def squareElementsOfList(inputList):\n",
    "    outputList = []\n",
    "    for element in inputList:\n",
    "        outputList.append(element**2)\n",
    "    return outputList"
   ]
  },
  {
   "cell_type": "markdown",
   "metadata": {},
   "source": [
    "And use them like this:"
   ]
  },
  {
   "cell_type": "code",
   "execution_count": 23,
   "metadata": {},
   "outputs": [
    {
     "name": "stdout",
     "output_type": "stream",
     "text": [
      "Result:  10\n",
      "Squared list:  [9, 49, 64, 4, 81]\n"
     ]
    }
   ],
   "source": [
    "result = addTwoNumbers(3, 7)\n",
    "print('Result: ', result)\n",
    "\n",
    "squaredList = squareElementsOfList(listOfNumbers)\n",
    "print('Squared list: ', squaredList)"
   ]
  },
  {
   "cell_type": "markdown",
   "metadata": {},
   "source": [
    "__Power of Python__\n",
    "\n",
    "Python was designed to be very simple and readable. This makes it a great programming language for beginners. \n",
    "\n",
    "The above function `squareElementsOfList()` can actually be written in a single line using one of Pythons beautiful features ([list comprehensions](https://www.pythonforbeginners.com/basics/list-comprehensions-in-python)):"
   ]
  },
  {
   "cell_type": "code",
   "execution_count": 24,
   "metadata": {},
   "outputs": [
    {
     "name": "stdout",
     "output_type": "stream",
     "text": [
      "[9, 49, 64, 4, 81]\n"
     ]
    }
   ],
   "source": [
    "otherSquaredList = [element**2 for element in listOfNumbers]\n",
    "\n",
    "print(otherSquaredList)"
   ]
  },
  {
   "cell_type": "markdown",
   "metadata": {},
   "source": [
    "__Importing packages__\n",
    "\n",
    "Python has a wide range of __libraries__ that can be installed and imported.\n",
    "\n",
    "Packages often used by engineers include:\n",
    "- Signal processing, linear algebra:\n",
    "  - [Numpy](https://docs.scipy.org/doc/numpy/reference/)\n",
    "  - [SciPy](https://www.scipy.org/)\n",
    "- Plotting:\n",
    "  - [Matplotlib](https://matplotlib.org/2.0.2/index.html)\n",
    "- Machine Learning:\n",
    "  - [Scikit-learn](http://scikit-learn.org/stable/)\n",
    "  - [Tensorflow](https://www.tensorflow.org/)\n",
    "  - [Keras](https://keras.io/)\n",
    "- and many others like PyAudio, OpenCV, ...\n",
    "\n",
    "To import packages or subpackages we simply use `import package` or `import package.subpackage as alias`. To import a single class or function, use `from package import class`"
   ]
  },
  {
   "cell_type": "code",
   "execution_count": 25,
   "metadata": {},
   "outputs": [],
   "source": [
    "import numpy\n",
    "from numpy import pi # with this we can simply use pi like a variable\n",
    "import matplotlib.pyplot as plt"
   ]
  },
  {
   "cell_type": "markdown",
   "metadata": {},
   "source": [
    "We can now use functions from these packages, like this:"
   ]
  },
  {
   "cell_type": "code",
   "execution_count": 27,
   "metadata": {},
   "outputs": [
    {
     "name": "stdout",
     "output_type": "stream",
     "text": [
      "pi =  3.141592653589793\n",
      "sin(pi) =  1.2246467991473532e-16\n",
      "cos(2pi) =  1.0\n"
     ]
    }
   ],
   "source": [
    "print('pi = ',pi)\n",
    "\n",
    "sinOfPi = numpy.sin(pi)\n",
    "print('sin(pi) = ', sinOfPi)\n",
    "\n",
    "cosOfTwoPi = numpy.cos(2*pi)\n",
    "print('cos(2pi) = ', cosOfTwoPi)"
   ]
  },
  {
   "cell_type": "markdown",
   "metadata": {},
   "source": [
    "The power of __Numpy__ is that we can easily use arrays (vectors or matrices). __Matplotlib__ gives us the power to create plots quickly."
   ]
  },
  {
   "cell_type": "code",
   "execution_count": 21,
   "metadata": {},
   "outputs": [
    {
     "data": {
      "image/png": "[encoded data removed]",
      "text/plain": [
       "<matplotlib.figure.Figure at 0x7ffacaf5f630>"
      ]
     },
     "metadata": {},
     "output_type": "display_data"
    }
   ],
   "source": [
    "time = numpy.arange(0, 1, 0.001)\n",
    "plt.plot(time)\n",
    "plt.title('A simple line')\n",
    "plt.show()"
   ]
  },
  {
   "cell_type": "markdown",
   "metadata": {},
   "source": [
    "You can also plot a sine wave with a frequency of $f$:\n",
    "\n",
    "$$ y(t) = sin(2\\pi ft) $$\n",
    "\n",
    "And lable the axis accordingly using matplotlib."
   ]
  },
  {
   "cell_type": "code",
   "execution_count": 22,
   "metadata": {},
   "outputs": [
    {
     "data": {
      "image/png": "[encoded data removed]",
      "text/plain": [
       "<matplotlib.figure.Figure at 0x7ffacaf5f3c8>"
      ]
     },
     "metadata": {},
     "output_type": "display_data"
    }
   ],
   "source": [
    "f = 5 # Hz\n",
    "\n",
    "y = numpy.sin(2*pi*f*time)\n",
    "\n",
    "plt.plot(time, y)\n",
    "plt.xlabel('Time [s]')\n",
    "plt.ylabel('Amplitude')\n",
    "plt.title('Sine wave')\n",
    "plt.show()"
   ]
  }
 ],
 "metadata": {
  "kernelspec": {
   "display_name": "Python 3",
   "language": "python",
   "name": "python3"
  },
  "language_info": {
   "codemirror_mode": {
    "name": "ipython",
    "version": 3
   },
   "file_extension": ".py",
   "mimetype": "text/x-python",
   "name": "python",
   "nbconvert_exporter": "python",
   "pygments_lexer": "ipython3",
   "version": "3.6.4"
  }
 },
 "nbformat": 4,
 "nbformat_minor": 2
}
