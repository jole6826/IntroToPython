{
 "cells": [
  {
   "cell_type": "markdown",
   "metadata": {},
   "source": [
    "## Tasks\n",
    "\n",
    "The following tasks will help you get started with Python. They are designed to demonstrate the typical usage and power of Python. \n",
    "\n",
    "You will be asked to perform a number of excercises. There will also usually be some hints to help you solve the problems."
   ]
  },
  {
   "cell_type": "markdown",
   "metadata": {},
   "source": [
    "### 1 Basics of linear algebra with Python and Numpy\n",
    "\n",
    "#### 1.1\n",
    "\n",
    "\n",
    "Using numpy, create the matrix __A__ and multiply it with a scalar __s__:  \n",
    "\n",
    "$$ \n",
    "\\textbf{A} = \n",
    " \\begin{bmatrix}\n",
    "3 & 5 & 7 & 4 \\\\\n",
    "2 & 7 & 4 & 1 \\\\\n",
    "9 & 4 & 2 & 4 \n",
    "\\end{bmatrix}\n",
    "$$\n",
    "\n",
    "Extract the first row of the resulting matrix. Print the full matrix and the first row seperately\n",
    "\n",
    "__Hints:__ `array()`, [ : , : ]"
   ]
  },
  {
   "cell_type": "code",
   "execution_count": null,
   "metadata": {},
   "outputs": [],
   "source": [
    "# Import the packages you might need\n",
    "\n"
   ]
  },
  {
   "cell_type": "code",
   "execution_count": null,
   "metadata": {},
   "outputs": [],
   "source": [
    "# Create variables for a matrix and a scalar\n",
    "\n",
    "\n",
    "# Print the results\n",
    "\n"
   ]
  },
  {
   "cell_type": "markdown",
   "metadata": {},
   "source": [
    "#### 1.2\n",
    "\n",
    "Multiply the following 3x3 matrices\n",
    "\n",
    " \n",
    "$\n",
    "\\textbf{A} = \n",
    " \\begin{bmatrix}\n",
    "1 & 2 & 6 \\\\\n",
    "3 & 6 & 8 \\\\\n",
    "9 & 1 & 5 \n",
    "\\end{bmatrix}\n",
    "$ \n",
    "and \n",
    "$\n",
    "\\textbf{B} = \n",
    " \\begin{bmatrix}\n",
    "8 & 10 & 7 \\\\\n",
    "5 & 1 & 7 \\\\\n",
    "10 & 2 & 7 \n",
    "\\end{bmatrix}\n",
    "$\n",
    "\n",
    "  __a)__ elementwise\n",
    " \n",
    "  __b)__ by matrix multiplication\n",
    "\n",
    "and print the results.\n",
    "\n",
    "\n",
    "__Hints:__ `dot()`"
   ]
  },
  {
   "cell_type": "code",
   "execution_count": null,
   "metadata": {},
   "outputs": [],
   "source": [
    "# Create the two matrices \n",
    "\n",
    "\n",
    "# And print the result of the multiplications\n",
    "print('Elementwise multiplication: ')\n",
    "\n",
    "print('Matrix multiplication: ')\n"
   ]
  },
  {
   "cell_type": "markdown",
   "metadata": {},
   "source": [
    "#### 1.3 \n",
    "\n",
    "Multiply the following matrix __A__ with the column vector __c__. And their respective transposed versions. \n",
    "\n",
    "$$\\mathbf{A} * c$$\n",
    "\n",
    "$$c^T \\cdot \\mathbf{A}^T$$\n",
    "\n",
    "Make sure the dimensions fit. \n",
    "\n",
    "$\n",
    "\\mathbf{A} = \n",
    " \\begin{bmatrix}\n",
    "8 & 10 & 2 & 7 \\\\\n",
    "5 & 3 & 1 & 6 \\\\\n",
    "9 & 6 & 4 & 5 \n",
    "\\end{bmatrix}\n",
    "$\n",
    "\n",
    "$\n",
    "c = \n",
    " \\begin{bmatrix}\n",
    "2 \\\\\n",
    "1 \\\\\n",
    "3 \\\\\n",
    "9\n",
    "\\end{bmatrix}\n",
    "$\n",
    "\n",
    "__Hints:__ `dot()`, `.T`"
   ]
  },
  {
   "cell_type": "code",
   "execution_count": null,
   "metadata": {},
   "outputs": [],
   "source": [
    "# Create a matrix and a vector\n",
    "\n",
    "# And print the result of the multiplications\n"
   ]
  },
  {
   "cell_type": "markdown",
   "metadata": {},
   "source": [
    "#### 1.4 Chess Board\n",
    "\n",
    "Create a __matrix__ that resembles a __chess board__ layout. Black squares should have the value 0, white squares should have 255. \n",
    "\n",
    "Each field should be a 4 x 4 matrix and the board should have 2 x 2 fields. \n",
    "\n",
    "So it should look something like this: \n",
    "\n",
    "$\n",
    "\\textbf{chessBoard} = \n",
    " \\begin{bmatrix}\n",
    "255 & 255 & 255 & 255 & 0 & 0 & 0 & 0 \\\\\n",
    "255 & 255 & 255 & 255 & 0 & 0 & 0 & 0 \\\\\n",
    "255 & 255 & 255 & 255 & 0 & 0 & 0 & 0 \\\\\n",
    "255 & 255 & 255 & 255 & 0 & 0 & 0 & 0 \\\\\n",
    "0 & 0 & 0 & 0 & 255 & 255 & 255 & 255 \\\\\n",
    "0 & 0 & 0 & 0 & 255 & 255 & 255 & 255 \\\\\n",
    "0 & 0 & 0 & 0 & 255 & 255 & 255 & 255 \\\\\n",
    "0 & 0 & 0 & 0 & 255 & 255 & 255 & 255\n",
    "\\end{bmatrix}\n",
    "$\n",
    "\n",
    "__Hints:__ `zeros()`, `ones()`, `vstack()`, `hstack()` , `fliplr()`"
   ]
  },
  {
   "cell_type": "code",
   "execution_count": null,
   "metadata": {
    "scrolled": true
   },
   "outputs": [],
   "source": [
    "# Create a chess board like matrix\n",
    "\n",
    "# And print the resulting matrix"
   ]
  },
  {
   "cell_type": "markdown",
   "metadata": {},
   "source": [
    "Once you have this matrix, __extract the inner 4x4 square__ using indexing such that:\n",
    "\n",
    "$\n",
    "\\textbf{inner} = \n",
    " \\begin{bmatrix}\n",
    "255 & 255 & 0 & 0 \\\\\n",
    "255 & 255 & 0 & 0 \\\\\n",
    "0 & 0 & 255 & 255 \\\\\n",
    "0 & 0 & 255 & 255 \n",
    "\\end{bmatrix}\n",
    "$"
   ]
  },
  {
   "cell_type": "code",
   "execution_count": null,
   "metadata": {},
   "outputs": [],
   "source": [
    "# Extract the inside part using slicing\n",
    "\n",
    "\n",
    "# And print the results\n"
   ]
  },
  {
   "cell_type": "markdown",
   "metadata": {},
   "source": [
    "#### Additional task (skip first and come back if you have time left):\n",
    "\n",
    "Create a full size chessboard (8x8) with larger fields and display it as an image.\n",
    "\n",
    "__Hints:__ `plt.imshow()`"
   ]
  },
  {
   "cell_type": "code",
   "execution_count": null,
   "metadata": {},
   "outputs": [],
   "source": [
    "# Create full size chess board\n"
   ]
  },
  {
   "cell_type": "markdown",
   "metadata": {},
   "source": [
    "### 2 Plotting\n",
    "\n",
    "Use Matplotlib to plot, as demonstrated before. \n",
    "\n",
    "#### 2.1 Gaussian curve\n",
    "\n",
    "__Plot__ a normalized one-dimensional (zero mean) gaussian function with $\\sigma = 2.5$ in the range fom -10 to 10. \n",
    "\n",
    "$$ G(x) = \\frac{1}{\\sqrt{2\\pi \\sigma^2}}\\cdot e^{-\\frac{x^2}{2\\sigma ^2}}$$\n",
    "\n",
    "__Hints:__ `plot()`, `arange()`, `linspace()`, `exp()`, `srqt()`, `show()`"
   ]
  },
  {
   "cell_type": "code",
   "execution_count": null,
   "metadata": {},
   "outputs": [],
   "source": [
    "# Define x values and sigma\n",
    "\n"
   ]
  },
  {
   "cell_type": "markdown",
   "metadata": {},
   "source": [
    "### 3 Functions and more plotting\n",
    "\n",
    "Write a __function__ that takes a __time array and a frequency value__ as input arguments and returns\n",
    "\n",
    "$$y(t) = t \\cdot sin(2\\pi ft)$$ \n",
    "\n",
    "__Plot the results__ for two different frequencies in the same plot. \n",
    "\n",
    "Add a fitting __title__ ,__x/y-labels__ and a __legend__.\n",
    "\n",
    "Hints: `plt.plot()`, `plt.title()`, `plt.xlabel()`, `plt.ylabel()`, `plt.legend()`"
   ]
  },
  {
   "cell_type": "code",
   "execution_count": null,
   "metadata": {},
   "outputs": [],
   "source": [
    "# Define your function here:\n",
    "def growingSin(t, f):\n",
    "    pass"
   ]
  },
  {
   "cell_type": "code",
   "execution_count": null,
   "metadata": {},
   "outputs": [],
   "source": [
    "# Use two frequencies\n",
    "f1 = 5\n",
    "f2 = 17\n",
    "\n",
    "# Call your function\n",
    "\n",
    "# Create a nice plot with matplotlib\n"
   ]
  },
  {
   "cell_type": "markdown",
   "metadata": {},
   "source": [
    "### A. Additional tasks\n",
    "\n",
    "You can solve the next tasks once you're done with the above. There are two different tasks to choose from. \n",
    "\n",
    "The first has to do with image and signal processing, while the second one deals with string functions and cryptography. \n",
    "\n",
    "They are a litle more advanced, so if you have any questions feels free to ask. Or [Google](www.google.de) your problem. That is usually a good start if you have any issues. "
   ]
  },
  {
   "cell_type": "markdown",
   "metadata": {},
   "source": [
    "#### A.1 Image/Signal-Processing\n",
    "\n",
    "Use `matplotllib.image`'s `imread()` to load the image _Lena.png_ from the current working directory. \n",
    "\n",
    "Look at it using `imshow()`."
   ]
  },
  {
   "cell_type": "code",
   "execution_count": null,
   "metadata": {},
   "outputs": [],
   "source": [
    "import matplotlib.image as mpimg\n",
    "\n",
    "# Read in the image\n",
    "\n",
    "# and show it \n"
   ]
  },
  {
   "cell_type": "markdown",
   "metadata": {},
   "source": [
    "Extract the three color channels (R, G, B) of the image and create a black and white image using the following formula:\n",
    "\n",
    "$$ Y = 0.3\\cdot R + 0.6 \\cdot G + 0.1 \\cdot B$$\n",
    "\n",
    "Here Y is the luminance or brightnes calculated from the three color channels (R: red, G: green, B: blue).\n",
    "\n"
   ]
  },
  {
   "cell_type": "code",
   "execution_count": null,
   "metadata": {},
   "outputs": [],
   "source": [
    "# Extract the R, G and B channel from the image\n",
    "\n",
    "# And calculate the luminance image\n",
    "\n",
    "# Display it\n",
    "\n"
   ]
  },
  {
   "cell_type": "markdown",
   "metadata": {},
   "source": [
    "#### A.2 Ceasar Cipher\n",
    "\n",
    "Try to find the clear text using the old [Ceaser cipher](https://en.wikipedia.org/wiki/Caesar_cipher). Use Python as much as possible. \n",
    "\n",
    "Take a look at all the string operations it offers! Have fun!\n",
    "\n",
    "    'htslwfyzqfyntsxdtzmfajxzhhjxxkzqqdhtruqjyjiytifdxbtwpxmtudtzfwjfqqxjyytxyfwybtwpnsltsdtzwtbsuwtgqjrxstbbjmtujdtzjsotdjiny'\n",
    "    \n",
    "\n",
    "(Hint: What is the first letter in the Intro Notebook?)  \n"
   ]
  },
  {
   "cell_type": "code",
   "execution_count": 1,
   "metadata": {},
   "outputs": [],
   "source": [
    "secret = \"htslwfyzqfyntsxdtzmfajxzhhjxxkzqqdhtruqjyjiytifdxbtwpxmtudtzfwjfqqxjyytxyfwybtwpnsltsdtzwtbsuwtgqjrxstbbjmtujdtzjsotdjiny\""
   ]
  },
  {
   "cell_type": "code",
   "execution_count": null,
   "metadata": {},
   "outputs": [],
   "source": []
  }
 ],
 "metadata": {
  "kernelspec": {
   "display_name": "Python 3",
   "language": "python",
   "name": "python3"
  },
  "language_info": {
   "codemirror_mode": {
    "name": "ipython",
    "version": 3
   },
   "file_extension": ".py",
   "mimetype": "text/x-python",
   "name": "python",
   "nbconvert_exporter": "python",
   "pygments_lexer": "ipython3",
   "version": "3.6.4"
  }
 },
 "nbformat": 4,
 "nbformat_minor": 2
}
