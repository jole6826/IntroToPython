{
 "cells": [
  {
   "cell_type": "markdown",
   "metadata": {},
   "source": [
    "# Workshop: Python basics for engineers\n",
    "<hr>\n",
    "\n",
    "## Fachschaftsrat Elektro- & Informationstechnik\n",
    "(https://www.tu-ilmenau.de/fachschaftsrat-ei/startseite/)\n",
    "\n"
   ]
  },
  {
   "cell_type": "markdown",
   "metadata": {},
   "source": [
    "### Getting started with Python yourself: \n",
    "- [Python for Beginners](https://www.python.org/about/gettingstarted/)\n",
    "- [Installation step-by-step (german)](https://www.tu-ilmenau.de/de/neurob/teaching/python-installation/)\n",
    "- Places to practice:\n",
    "  - [The Python Challenge](http://www.pythonchallenge.com/)\n",
    "  - [Codewars](https://www.codewars.com/)"
   ]
  },
  {
   "cell_type": "markdown",
   "metadata": {},
   "source": [
    "### Introduction to follow along\n",
    "\n",
    "In the next cells we will demonstrate the basic syntax of Python and how to use this Jupyter Notebook to work on the coming tasks. \n",
    "\n",
    "Simply hit `Shift+Enter` to execute the currently selected cell of the notebook."
   ]
  },
  {
   "cell_type": "markdown",
   "metadata": {},
   "source": [
    "__Printing results__ \n",
    "\n",
    "Here you see how to present results. Or run a ['Hello World'](https://en.wikipedia.org/wiki/%22Hello,_World!%22_program \"'Hello, World!') program\""
   ]
  },
  {
   "cell_type": "code",
   "execution_count": null,
   "metadata": {},
   "outputs": [],
   "source": [
    "print('Hello World!')"
   ]
  },
  {
   "cell_type": "markdown",
   "metadata": {},
   "source": [
    "__Python as a calculator__"
   ]
  },
  {
   "cell_type": "code",
   "execution_count": null,
   "metadata": {},
   "outputs": [],
   "source": [
    "4 + 8"
   ]
  },
  {
   "cell_type": "markdown",
   "metadata": {},
   "source": [
    "__Using variables__\n",
    "\n",
    "You can store variables of different types with a name and value. \n",
    "\n",
    "This is very convenient for complex calculations and to print the results. \n",
    "(Always try to give your variables meaningful names.)"
   ]
  },
  {
   "cell_type": "code",
   "execution_count": null,
   "metadata": {},
   "outputs": [],
   "source": [
    "phrase = \"Hello World!\"\n",
    "print(phrase)"
   ]
  },
  {
   "cell_type": "code",
   "execution_count": null,
   "metadata": {},
   "outputs": [],
   "source": [
    "firstNumber = 5\n",
    "otherNumber = 23\n",
    "\n",
    "listOfNumbers = [3, 7, 8, 2, 9]\n",
    "nameAndAgeTuple = ('Max', 21)\n",
    "\n",
    "print('Adding two variables: ', firstNumber + otherNumber)\n",
    "print('Display a list of numbers: ', listOfNumbers)\n",
    "\n",
    "print(nameAndAgeTuple)\n"
   ]
  },
  {
   "cell_type": "markdown",
   "metadata": {},
   "source": [
    "__Accessing  lists and elements__\n",
    "\n",
    "Using `list[a:b]` we can access elements in a list. \n",
    "The indices in Python start at $0$."
   ]
  },
  {
   "cell_type": "code",
   "execution_count": null,
   "metadata": {},
   "outputs": [],
   "source": [
    "print('Entire list: ', listOfNumbers[:])\n",
    "print('Print an element of the list: ', listOfNumbers[2])  # the element at index 2\n",
    "print('Print a slice of the list: ', listOfNumbers[2:5])   # the second index in exclusiv, meaning it is not included"
   ]
  },
  {
   "cell_type": "markdown",
   "metadata": {},
   "source": [
    "__Loops and logic__\n",
    "\n",
    "\n",
    "Using loops and logic expressions are done using the keywords: \n",
    "\n",
    "`for`, `while`,`if`, `else`, `and`, `or`, `not`, `in` and more\n",
    "\n",
    "This makes Python very readable"
   ]
  },
  {
   "cell_type": "code",
   "execution_count": null,
   "metadata": {},
   "outputs": [],
   "source": [
    "for number in listOfNumbers:  # demonstrate if, else and boolean operations\n",
    "    if number % 2 == 1:\n",
    "        print(number)\n",
    "    else: \n",
    "        print('wrong')"
   ]
  },
  {
   "cell_type": "markdown",
   "metadata": {},
   "source": [
    "__Defining functions__\n",
    "\n",
    "Using the `def` keyword you can simply create your own functions. \n",
    "\n",
    "Also notice that python doesn't have curly brackets`{` or `}` like *Java*, *C/C++* and other languages. Instead the code is organized using indentation. The correct __level of indentation__ is very important for Python to work! This is also true for loops (`for`, `while`)"
   ]
  },
  {
   "cell_type": "code",
   "execution_count": null,
   "metadata": {},
   "outputs": [],
   "source": [
    "def addTwoNumbers(a, b):\n",
    "    return a + b\n",
    "\n",
    "def squareElements(inputList):\n",
    "    outputList = [] # declare a new list\n",
    "    for element in inputList:\n",
    "        outputList.append(element * element) # square each element and append it to new list\n",
    "    return outputList"
   ]
  },
  {
   "cell_type": "markdown",
   "metadata": {},
   "source": [
    "And use them like this:"
   ]
  },
  {
   "cell_type": "code",
   "execution_count": null,
   "metadata": {},
   "outputs": [],
   "source": [
    "result = addTwoNumbers(3, 7)\n",
    "print('Result: ', result)\n",
    "\n",
    "squaredList = squareElementsOfList(listOfNumbers)\n",
    "print('Squared list: ', squaredList)"
   ]
  },
  {
   "cell_type": "markdown",
   "metadata": {},
   "source": [
    "__Power of Python__\n",
    "\n",
    "Python was designed to be very simple and readable. This makes it a great programming language for beginners. \n",
    "\n",
    "The above function `squareElementsOfList()` can actually be written in a single line using a Python feature called [list comprehensions](https://www.pythonforbeginners.com/basics/list-comprehensions-in-python):"
   ]
  },
  {
   "cell_type": "code",
   "execution_count": null,
   "metadata": {},
   "outputs": [],
   "source": [
    "otherSquaredList = [element**2 for element in listOfNumbers]\n",
    "\n",
    "print(otherSquaredList)"
   ]
  },
  {
   "cell_type": "markdown",
   "metadata": {},
   "source": [
    "__Importing packages__\n",
    "\n",
    "Python has a wide range of __libraries__ that can be installed and imported.\n",
    "\n",
    "Many come preinstalled in the standard distribution. For the other ones use [Conda](https://conda.io/docs/index.html) (or [pip](https://pypi.org/project/pip/))\n",
    "\n",
    "Packages often used by engineers include:\n",
    "- Signal processing, linear algebra:\n",
    "  - [Numpy](https://docs.scipy.org/doc/numpy/reference/)\n",
    "  - [SciPy](https://www.scipy.org/)\n",
    "- Plotting:\n",
    "  - [Matplotlib](https://matplotlib.org/2.0.2/index.html)\n",
    "- Symbolic math\n",
    "  - [SymPy](https://www.sympy.org/en/index.html)\n",
    "- Machine Learning:\n",
    "  - [Scikit-learn](http://scikit-learn.org/stable/)\n",
    "  - [Tensorflow](https://www.tensorflow.org/)\n",
    "  - [Keras](https://keras.io/)\n",
    "- and many others like PyAudio, OpenCV, ...\n",
    "\n",
    "To import packages or subpackages use \n",
    "- `import package` (entire package)\n",
    "- `import package.subpackage as alias` (subpackage)\n",
    "- `from package import class` (single class or function)"
   ]
  },
  {
   "cell_type": "code",
   "execution_count": null,
   "metadata": {},
   "outputs": [],
   "source": [
    "import numpy\n",
    "from numpy import pi # with this we can simply use pi like a variable\n",
    "import matplotlib.pyplot as plt"
   ]
  },
  {
   "cell_type": "markdown",
   "metadata": {},
   "source": [
    "We can now use functions from these packages, like this:"
   ]
  },
  {
   "cell_type": "code",
   "execution_count": null,
   "metadata": {},
   "outputs": [],
   "source": [
    "print('pi = ',pi)\n",
    "\n",
    "sinOfPi = numpy.sin(pi)\n",
    "print('sin(pi) = ', sinOfPi)\n",
    "\n",
    "cosOfTwoPi = numpy.cos(2*pi)\n",
    "print('cos(2pi) = ', cosOfTwoPi)"
   ]
  },
  {
   "cell_type": "markdown",
   "metadata": {},
   "source": [
    "The power of __Numpy__ is that we can easily use arrays (vectors or matrices). __Matplotlib__ gives us the power to create plots quickly."
   ]
  },
  {
   "cell_type": "code",
   "execution_count": null,
   "metadata": {},
   "outputs": [],
   "source": [
    "time = numpy.arange(0, 1, 0.001)\n",
    "plt.plot(time, time)\n",
    "plt.title('A simple line')\n",
    "plt.show()"
   ]
  },
  {
   "cell_type": "markdown",
   "metadata": {},
   "source": [
    "You can also plot a sine wave with a frequency of $f$:\n",
    "\n",
    "$$ y(t) = sin(2\\pi ft) $$\n",
    "\n",
    "And lable the axis accordingly using matplotlib."
   ]
  },
  {
   "cell_type": "code",
   "execution_count": null,
   "metadata": {},
   "outputs": [],
   "source": [
    "f = 5 # Hz\n",
    "\n",
    "y = numpy.sin(2*pi*f*time)\n",
    "\n",
    "plt.plot(time, y)\n",
    "plt.xlabel('Time [s]')\n",
    "plt.ylabel('Amplitude')\n",
    "plt.title('Sine wave')\n",
    "plt.show()"
   ]
  },
  {
   "cell_type": "code",
   "execution_count": null,
   "metadata": {},
   "outputs": [],
   "source": []
  }
 ],
 "metadata": {
  "kernelspec": {
   "display_name": "Python 3",
   "language": "python",
   "name": "python3"
  },
  "language_info": {
   "codemirror_mode": {
    "name": "ipython",
    "version": 3
   },
   "file_extension": ".py",
   "mimetype": "text/x-python",
   "name": "python",
   "nbconvert_exporter": "python",
   "pygments_lexer": "ipython3",
   "version": "3.6.4"
  }
 },
 "nbformat": 4,
 "nbformat_minor": 2
}
